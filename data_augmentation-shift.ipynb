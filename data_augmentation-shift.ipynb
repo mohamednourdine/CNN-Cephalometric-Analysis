{
 "cells": [
  {
   "cell_type": "code",
   "execution_count": 1,
   "id": "official-allah",
   "metadata": {},
   "outputs": [
    {
     "name": "stderr",
     "output_type": "stream",
     "text": [
      "In C:\\Users\\Flayiva_01\\anaconda3\\envs\\pytorchenv\\lib\\site-packages\\matplotlib\\mpl-data\\stylelib\\_classic_test.mplstyle: \n",
      "The savefig.frameon rcparam was deprecated in Matplotlib 3.1 and will be removed in 3.3.\n",
      "In C:\\Users\\Flayiva_01\\anaconda3\\envs\\pytorchenv\\lib\\site-packages\\matplotlib\\mpl-data\\stylelib\\_classic_test.mplstyle: \n",
      "The verbose.level rcparam was deprecated in Matplotlib 3.1 and will be removed in 3.3.\n",
      "In C:\\Users\\Flayiva_01\\anaconda3\\envs\\pytorchenv\\lib\\site-packages\\matplotlib\\mpl-data\\stylelib\\_classic_test.mplstyle: \n",
      "The verbose.fileo rcparam was deprecated in Matplotlib 3.1 and will be removed in 3.3.\n"
     ]
    }
   ],
   "source": [
    "import os\n",
    "import imgaug\n",
    "from skimage import io, transform\n",
    "from skimage import img_as_ubyte\n",
    "from imgaug import augmenters as iaa\n",
    "import numpy as np\n",
    "import matplotlib.pyplot as plt\n",
    "from skimage import io, transform\n",
    "import random\n",
    "\n",
    "# ignore harmless warnings\n",
    "import warnings\n",
    "warnings.filterwarnings(\"ignore\")"
   ]
  },
  {
   "cell_type": "code",
   "execution_count": 2,
   "id": "sophisticated-organization",
   "metadata": {},
   "outputs": [],
   "source": [
    "%matplotlib inline"
   ]
  },
  {
   "cell_type": "code",
   "execution_count": 3,
   "id": "bizarre-malpractice",
   "metadata": {},
   "outputs": [],
   "source": [
    "# images = np.random.randint(0, 255, (16, 128, 128, 3), dtype=np.uint8)\n",
    "SAMPLE_PATH = \"data/Test/001.bmp\"\n",
    "TXT_PATH = \"data/Test/labels/001.txt\""
   ]
  },
  {
   "cell_type": "code",
   "execution_count": 4,
   "id": "sunset-husband",
   "metadata": {},
   "outputs": [
    {
     "data": {
      "text/plain": [
       "(2400, 1935)"
      ]
     },
     "execution_count": 4,
     "metadata": {},
     "output_type": "execute_result"
    }
   ],
   "source": [
    "img = img_as_ubyte(io.imread(SAMPLE_PATH, as_gray=True))\n",
    "img.shape"
   ]
  },
  {
   "cell_type": "code",
   "execution_count": 5,
   "id": "atomic-emission",
   "metadata": {},
   "outputs": [],
   "source": [
    "x,y = img.shape"
   ]
  },
  {
   "cell_type": "code",
   "execution_count": 6,
   "id": "rough-mason",
   "metadata": {},
   "outputs": [],
   "source": [
    "SCALE = 15"
   ]
  },
  {
   "cell_type": "code",
   "execution_count": 7,
   "id": "victorian-hundred",
   "metadata": {},
   "outputs": [],
   "source": [
    "img_dimmed = np.expand_dims(img, axis=0)"
   ]
  },
  {
   "cell_type": "code",
   "execution_count": 8,
   "id": "electric-essay",
   "metadata": {},
   "outputs": [
    {
     "data": {
      "text/plain": [
       "array([[[252, 252, 253, ..., 253, 253,   0],\n",
       "        [252, 252, 252, ..., 253, 253,   0],\n",
       "        [252, 252, 252, ..., 253, 253,   0],\n",
       "        ...,\n",
       "        [252, 252, 252, ..., 134, 148,   0],\n",
       "        [254, 254, 254, ..., 140, 136,  10],\n",
       "        [  0,   0,   0, ...,   3,   1,   0]]], dtype=uint8)"
      ]
     },
     "execution_count": 8,
     "metadata": {},
     "output_type": "execute_result"
    }
   ],
   "source": [
    "img_dimmed"
   ]
  },
  {
   "cell_type": "code",
   "execution_count": 9,
   "id": "toxic-armenia",
   "metadata": {},
   "outputs": [],
   "source": [
    "def extract_labels_from_txt(path):\n",
    "    with open(path, \"r\") as f:\n",
    "        # only first 19 are actual coords in dataset label files\n",
    "        coords_raw = f.readlines()[:19]\n",
    "        coords_raw = [tuple([int(float(s)) for s in t.split(\",\")]) for t in coords_raw]\n",
    "        return coords_raw"
   ]
  },
  {
   "cell_type": "code",
   "execution_count": 10,
   "id": "personalized-porcelain",
   "metadata": {},
   "outputs": [],
   "source": [
    "coords_raw = extract_labels_from_txt(TXT_PATH)"
   ]
  },
  {
   "cell_type": "code",
   "execution_count": 11,
   "id": "ruled-salvation",
   "metadata": {},
   "outputs": [
    {
     "data": {
      "text/plain": [
       "[(835, 996),\n",
       " (1473, 1029),\n",
       " (1289, 1279),\n",
       " (604, 1228),\n",
       " (1375, 1654),\n",
       " (1386, 2019),\n",
       " (1333, 2200),\n",
       " (1263, 2272),\n",
       " (1305, 2252),\n",
       " (694, 1805),\n",
       " (1460, 1870),\n",
       " (1450, 1864),\n",
       " (1588, 1753),\n",
       " (1569, 2013),\n",
       " (1514, 1620),\n",
       " (1382, 2310),\n",
       " (944, 1506),\n",
       " (1436, 1569),\n",
       " (664, 1340)]"
      ]
     },
     "execution_count": 11,
     "metadata": {},
     "output_type": "execute_result"
    }
   ],
   "source": [
    "coords_raw"
   ]
  },
  {
   "cell_type": "code",
   "execution_count": 12,
   "id": "chubby-laugh",
   "metadata": {},
   "outputs": [],
   "source": [
    "kp_to_list = lambda k_arr: [(p.x, p.y) for p in k_arr]"
   ]
  },
  {
   "cell_type": "code",
   "execution_count": 13,
   "id": "commercial-phrase",
   "metadata": {},
   "outputs": [],
   "source": [
    "def list_to_kp(coords_raw):\n",
    "    kp = []\n",
    "    for coord in coords_raw:\n",
    "        kp.append(imgaug.Keypoint(x=coord[0], y=coord[1]))\n",
    "    keypoints = imgaug.KeypointsOnImage(kp, shape=img.shape)\n",
    "    return keypoints"
   ]
  },
  {
   "cell_type": "code",
   "execution_count": 14,
   "id": "incident-street",
   "metadata": {},
   "outputs": [],
   "source": [
    "keypoints_on_images = [list_to_kp(coords_raw)]"
   ]
  },
  {
   "cell_type": "code",
   "execution_count": 15,
   "id": "royal-bachelor",
   "metadata": {},
   "outputs": [
    {
     "data": {
      "text/plain": [
       "[KeypointsOnImage([Keypoint(x=835.00000000, y=996.00000000), Keypoint(x=1473.00000000, y=1029.00000000), Keypoint(x=1289.00000000, y=1279.00000000), Keypoint(x=604.00000000, y=1228.00000000), Keypoint(x=1375.00000000, y=1654.00000000), Keypoint(x=1386.00000000, y=2019.00000000), Keypoint(x=1333.00000000, y=2200.00000000), Keypoint(x=1263.00000000, y=2272.00000000), Keypoint(x=1305.00000000, y=2252.00000000), Keypoint(x=694.00000000, y=1805.00000000), Keypoint(x=1460.00000000, y=1870.00000000), Keypoint(x=1450.00000000, y=1864.00000000), Keypoint(x=1588.00000000, y=1753.00000000), Keypoint(x=1569.00000000, y=2013.00000000), Keypoint(x=1514.00000000, y=1620.00000000), Keypoint(x=1382.00000000, y=2310.00000000), Keypoint(x=944.00000000, y=1506.00000000), Keypoint(x=1436.00000000, y=1569.00000000), Keypoint(x=664.00000000, y=1340.00000000)], shape=(2400, 1935))]"
      ]
     },
     "execution_count": 15,
     "metadata": {},
     "output_type": "execute_result"
    }
   ],
   "source": [
    "keypoints_on_images"
   ]
  },
  {
   "cell_type": "code",
   "execution_count": 16,
   "id": "economic-cleveland",
   "metadata": {},
   "outputs": [],
   "source": [
    "rs = iaa.Sequential()\n",
    "rs_det = rs.to_deterministic()\n",
    "seq = iaa.Sequential([iaa.Affine(translate_px={\"x\": (200, 200)})])\n",
    "seq_det = seq.to_deterministic() # call this for each batch again, NOT only once at the start"
   ]
  },
  {
   "cell_type": "code",
   "execution_count": 17,
   "id": "junior-edmonton",
   "metadata": {},
   "outputs": [],
   "source": [
    "images_rs = rs_det.augment_images(img_dimmed)\n",
    "keypoints_rs = rs_det.augment_keypoints(keypoints_on_images)\n",
    "images_aug = seq_det.augment_images(images_rs)\n",
    "keypoints_aug = seq_det.augment_keypoints(keypoints_rs)"
   ]
  },
  {
   "cell_type": "code",
   "execution_count": 18,
   "id": "united-grant",
   "metadata": {},
   "outputs": [
    {
     "data": {
      "text/plain": [
       "[KeypointsOnImage([Keypoint(x=1035.00000000, y=996.00000000), Keypoint(x=1673.00000000, y=1029.00000000), Keypoint(x=1489.00000000, y=1279.00000000), Keypoint(x=804.00000000, y=1228.00000000), Keypoint(x=1575.00000000, y=1654.00000000), Keypoint(x=1586.00000000, y=2019.00000000), Keypoint(x=1533.00000000, y=2200.00000000), Keypoint(x=1463.00000000, y=2272.00000000), Keypoint(x=1505.00000000, y=2252.00000000), Keypoint(x=894.00000000, y=1805.00000000), Keypoint(x=1660.00000000, y=1870.00000000), Keypoint(x=1650.00000000, y=1864.00000000), Keypoint(x=1788.00000000, y=1753.00000000), Keypoint(x=1769.00000000, y=2013.00000000), Keypoint(x=1714.00000000, y=1620.00000000), Keypoint(x=1582.00000000, y=2310.00000000), Keypoint(x=1144.00000000, y=1506.00000000), Keypoint(x=1636.00000000, y=1569.00000000), Keypoint(x=864.00000000, y=1340.00000000)], shape=(2400, 1935))]"
      ]
     },
     "execution_count": 18,
     "metadata": {},
     "output_type": "execute_result"
    }
   ],
   "source": [
    "keypoints_aug"
   ]
  },
  {
   "cell_type": "code",
   "execution_count": 19,
   "id": "mature-feeding",
   "metadata": {},
   "outputs": [
    {
     "name": "stdout",
     "output_type": "stream",
     "text": [
      "[(1035.0, 996.0), (1673.0, 1029.0), (1489.0, 1279.0), (804.0, 1228.0), (1575.0, 1654.0), (1586.0, 2019.0), (1533.0, 2200.0), (1463.0, 2272.0), (1505.0, 2252.0), (894.0, 1805.0), (1660.0, 1870.0), (1650.0, 1864.0), (1788.0, 1753.0), (1769.0, 2013.0), (1714.0, 1620.0), (1582.0, 2310.0), (1144.0, 1506.0), (1636.0, 1569.0), (864.0, 1340.0)]\n"
     ]
    },
    {
     "data": {
      "image/png": "[encoded data removed]",
      "text/plain": [
       "<Figure size 432x288 with 2 Axes>"
      ]
     },
     "metadata": {
      "needs_background": "light"
     },
     "output_type": "display_data"
    }
   ],
   "source": [
    "fig = plt.figure()\n",
    "\n",
    "plt.rcParams[\"figure.figsize\"] = [16,9]\n",
    "ax1 = fig.add_subplot(2, 2, 1)\n",
    "ax2 = fig.add_subplot(2, 1, 1)\n",
    "\n",
    "ax1.imshow(images_rs[0], cmap=\"gray\")\n",
    "ax2.imshow(images_aug[0], cmap=\"gray\")\n",
    "\n",
    "k_orig = kp_to_list(keypoints_rs[0].keypoints)\n",
    "k_aug = kp_to_list(keypoints_aug[0].keypoints)\n",
    "print(k_aug)\n",
    "ax1.scatter(*zip(*k_orig))\n",
    "ax2.scatter(*zip(*k_aug))\n",
    "plt.show()"
   ]
  },
  {
   "cell_type": "code",
   "execution_count": 20,
   "id": "instructional-fitting",
   "metadata": {},
   "outputs": [],
   "source": [
    "ORIG_IMAGE_X = 1935\n",
    "ORIG_IMAGE_Y = 2400\n",
    "PIXELS_PER_MM = 10\n",
    "N_LANDMARKS = 19\n",
    "\n",
    "# (2400, 1935)"
   ]
  },
  {
   "cell_type": "markdown",
   "id": "conservative-extension",
   "metadata": {},
   "source": [
    "## Let's see how we can generate rotated images and save them with their corresponding annotations"
   ]
  },
  {
   "cell_type": "code",
   "execution_count": 103,
   "id": "patient-bolivia",
   "metadata": {},
   "outputs": [],
   "source": [
    "BASE_PATH = \"data/RawImage/TrainingData\"\n",
    "BASE_LABELS = \"data/AnnotationsByMD/400_senior\""
   ]
  },
  {
   "cell_type": "code",
   "execution_count": 104,
   "id": "coordinate-opera",
   "metadata": {},
   "outputs": [],
   "source": [
    "TEST_BASE_PATH = \"data/Test\"\n",
    "TEST_BASE_LABELS = \"data/Test\""
   ]
  },
  {
   "cell_type": "code",
   "execution_count": 105,
   "id": "simple-coffee",
   "metadata": {},
   "outputs": [],
   "source": [
    "def img_path_walker(base_path):\n",
    "    # walk through subdirs to get all image paths\n",
    "    img_paths = []\n",
    "    for root, _, files in os.walk(base_path):\n",
    "        for name in files:\n",
    "            if name.endswith(\".bmp\"):\n",
    "                img_paths.append(os.path.abspath(os.path.join(root, name)))\n",
    "    return img_paths"
   ]
  },
  {
   "cell_type": "code",
   "execution_count": 106,
   "id": "alpine-header",
   "metadata": {},
   "outputs": [],
   "source": [
    "def label_walker(base_labels):\n",
    "    img_labels = {}\n",
    "    for label_file in os.listdir(base_labels):\n",
    "        linked_img = label_file[:-3] + \"bmp\"\n",
    "        img_labels[linked_img] = extract_labels_from_txt(base_labels + \"/\" + label_file)\n",
    "    return img_labels"
   ]
  },
  {
   "cell_type": "code",
   "execution_count": 107,
   "id": "cheap-trigger",
   "metadata": {},
   "outputs": [],
   "source": [
    "img_labels = label_walker(BASE_LABELS)\n",
    "img_paths = img_path_walker(BASE_PATH)"
   ]
  },
  {
   "cell_type": "code",
   "execution_count": 108,
   "id": "secret-mathematics",
   "metadata": {},
   "outputs": [
    {
     "data": {
      "text/plain": [
       "400"
      ]
     },
     "execution_count": 108,
     "metadata": {},
     "output_type": "execute_result"
    }
   ],
   "source": [
    "len(img_labels)"
   ]
  },
  {
   "cell_type": "code",
   "execution_count": 109,
   "id": "decimal-knowing",
   "metadata": {},
   "outputs": [
    {
     "data": {
      "text/plain": [
       "150"
      ]
     },
     "execution_count": 109,
     "metadata": {},
     "output_type": "execute_result"
    }
   ],
   "source": [
    "len(img_paths)"
   ]
  },
  {
   "cell_type": "code",
   "execution_count": 110,
   "id": "structural-surprise",
   "metadata": {},
   "outputs": [],
   "source": [
    "\n",
    "# shrink = iaa.Sequential(iaa.AdditiveGaussianNoise(scale=(30, 90)))\n",
    "# augment_functions = [iaa.Fliplr(1.0)]\n",
    "\n",
    "\n",
    "# augment_functions += [iaa.Affine(rotate=rot_angle) for rot_angle in [180]]\n",
    "\n",
    "# print(augment_functions)"
   ]
  },
  {
   "cell_type": "code",
   "execution_count": 111,
   "id": "fabulous-lecture",
   "metadata": {},
   "outputs": [],
   "source": [
    "# shrink = iaa.Sequential([iaa.Scale({\"height\":256, \"width\":256})])\n",
    "# shrink  = iaa.AdditiveGaussianNoise(scale=(30, 90))\n",
    "\n",
    "# shrink = iaa.Sequential(iaa.AdditiveGaussianNoise(scale=(30, 90)))\n",
    "# augment_functions = [iaa.Fliplr(1.0)]\n",
    "\n",
    "\n",
    "# augment_functions += [iaa.Affine(rotate=rot_angle) for rot_angle in [90,180]]\n",
    "# augment_functions += [iaa.Affine(rotate=90)]\n",
    "# print(augment_functions)"
   ]
  },
  {
   "cell_type": "code",
   "execution_count": 125,
   "id": "smoking-delhi",
   "metadata": {},
   "outputs": [],
   "source": [
    "# shrink = iaa.Scale({\"height\":224, \"width\":224})\n",
    "\n",
    "# Papper and Salt\n",
    "augment_functions = [iaa.SaltAndPepper(0.1)]\n",
    "\n",
    "# 1px\n",
    "# augment_functions = [iaa.Affine(translate_px={\"y\": (9)})]\n",
    "# augment_functions += [iaa.Affine(translate_px={\"y\": (-9)})]\n",
    "# augment_functions += [iaa.Affine(translate_px={\"x\": (7)})]\n",
    "# augment_functions += [iaa.Affine(translate_px={\"x\": (-7)})]\n",
    "\n",
    "# 2px\n",
    "# augment_functions += [iaa.Affine(translate_px={\"y\": (18)})]\n",
    "# augment_functions += [iaa.Affine(translate_px={\"y\": (-18)})]\n",
    "# augment_functions += [iaa.Affine(translate_px={\"x\": (15)})]\n",
    "# augment_functions += [iaa.Affine(translate_px={\"x\": (-15)})]\n",
    "\n",
    "# 3px\n",
    "# augment_functions += [iaa.Affine(translate_px={\"y\": (28)})]\n",
    "# augment_functions += [iaa.Affine(translate_px={\"y\": (-28)})]\n",
    "# augment_functions += [iaa.Affine(translate_px={\"x\": (21)})]\n",
    "# augment_functions += [iaa.Affine(translate_px={\"x\": (-21)})]\n",
    "# augment_functions += [iaa.Affine(rotate=rot_angle) for rot_angle in [180]]\n"
   ]
  },
  {
   "cell_type": "code",
   "execution_count": 126,
   "id": "naval-experience",
   "metadata": {},
   "outputs": [],
   "source": [
    "def aug_and_save(img, img_name, label, aug_list, base_path):\n",
    "    kp = [list_to_kp(label)]\n",
    "\n",
    "#     img = shrink.augment_image(img)\n",
    "#     kp = shrink.augment_keypoints(kp)\n",
    "    \n",
    "    print(\"**************************\")\n",
    "#     img_save_name = base_path + \"/\" + img_name + \"_ps_aug0\"\n",
    "#     io.imsave(img_save_name + \".bmp\", img)\n",
    "#     with open(img_save_name + \".txt\", \"w\") as lf:\n",
    "#             stringified = [str(tup) for tup in kp_to_list(kp[0].keypoints)]\n",
    "#             print(\"\\n\".join(stringified))\n",
    "#             stringified = [s.replace(\"(\", \"\").replace(\")\",\"\") for s in stringified]\n",
    "            \n",
    "#             lf.write(\"\\n\".join(stringified))\n",
    "    for i, aug in enumerate(aug_list):\n",
    "        img_aug = aug.augment_image(img)\n",
    "        kp_aug = aug.augment_keypoints(kp)\n",
    "        # save img:\n",
    "        img_save_name = base_path + \"/\" + img_name + \"_ps_aug{}\".format(i+1)\n",
    "        io.imsave(img_save_name + \".bmp\", img_aug)\n",
    "        # save labelfile:\n",
    "        with open(img_save_name + \".txt\", \"w\") as lf:\n",
    "            stringified = [str(tup) for tup in kp_to_list(kp_aug[0].keypoints)]\n",
    "            stringified = [s.replace(\"(\", \"\").replace(\")\",\"\") for s in stringified]\n",
    "            lf.write(\"\\n\".join(stringified))"
   ]
  },
  {
   "cell_type": "code",
   "execution_count": 127,
   "id": "successful-asset",
   "metadata": {},
   "outputs": [
    {
     "name": "stdout",
     "output_type": "stream",
     "text": [
      "(2400, 1935, 3)\n",
      "**************************\n",
      "(2400, 1935, 3)\n",
      "**************************\n",
      "(2400, 1935, 3)\n",
      "**************************\n",
      "(2400, 1935, 3)\n",
      "**************************\n",
      "(2400, 1935, 3)\n",
      "**************************\n",
      "(2400, 1935, 3)\n",
      "**************************\n",
      "(2400, 1935, 3)\n",
      "**************************\n",
      "(2400, 1935, 3)\n",
      "**************************\n",
      "(2400, 1935, 3)\n",
      "**************************\n",
      "(2400, 1935, 3)\n",
      "**************************\n",
      "(2400, 1935, 3)\n",
      "**************************\n",
      "(2400, 1935, 3)\n",
      "**************************\n",
      "(2400, 1935, 3)\n",
      "**************************\n",
      "(2400, 1935, 3)\n",
      "**************************\n",
      "(2400, 1935, 3)\n",
      "**************************\n",
      "(2400, 1935, 3)\n",
      "**************************\n",
      "(2400, 1935, 3)\n",
      "**************************\n",
      "(2400, 1935, 3)\n",
      "**************************\n",
      "(2400, 1935, 3)\n",
      "**************************\n",
      "(2400, 1935, 3)\n",
      "**************************\n",
      "(2400, 1935, 3)\n",
      "**************************\n",
      "(2400, 1935, 3)\n",
      "**************************\n",
      "(2400, 1935, 3)\n",
      "**************************\n",
      "(2400, 1935, 3)\n",
      "**************************\n",
      "(2400, 1935, 3)\n",
      "**************************\n",
      "(2400, 1935, 3)\n",
      "**************************\n",
      "(2400, 1935, 3)\n",
      "**************************\n",
      "(2400, 1935, 3)\n",
      "**************************\n",
      "(2400, 1935, 3)\n",
      "**************************\n",
      "(2400, 1935, 3)\n",
      "**************************\n",
      "(2400, 1935, 3)\n",
      "**************************\n",
      "(2400, 1935, 3)\n",
      "**************************\n",
      "(2400, 1935, 3)\n",
      "**************************\n",
      "(2400, 1935, 3)\n",
      "**************************\n",
      "(2400, 1935, 3)\n",
      "**************************\n",
      "(2400, 1935, 3)\n",
      "**************************\n",
      "(2400, 1935, 3)\n",
      "**************************\n",
      "(2400, 1935, 3)\n",
      "**************************\n",
      "(2400, 1935, 3)\n",
      "**************************\n",
      "(2400, 1935, 3)\n",
      "**************************\n",
      "(2400, 1935, 3)\n",
      "**************************\n",
      "(2400, 1935, 3)\n",
      "**************************\n",
      "(2400, 1935, 3)\n",
      "**************************\n",
      "(2400, 1935, 3)\n",
      "**************************\n",
      "(2400, 1935, 3)\n",
      "**************************\n",
      "(2400, 1935, 3)\n",
      "**************************\n",
      "(2400, 1935, 3)\n",
      "**************************\n",
      "(2400, 1935, 3)\n",
      "**************************\n",
      "(2400, 1935, 3)\n",
      "**************************\n",
      "(2400, 1935, 3)\n",
      "**************************\n",
      "(2400, 1935, 3)\n",
      "**************************\n",
      "(2400, 1935, 3)\n",
      "**************************\n",
      "(2400, 1935, 3)\n",
      "**************************\n",
      "(2400, 1935, 3)\n",
      "**************************\n",
      "(2400, 1935, 3)\n",
      "**************************\n",
      "(2400, 1935, 3)\n",
      "**************************\n",
      "(2400, 1935, 3)\n",
      "**************************\n",
      "(2400, 1935, 3)\n",
      "**************************\n",
      "(2400, 1935, 3)\n",
      "**************************\n",
      "(2400, 1935, 3)\n",
      "**************************\n",
      "(2400, 1935, 3)\n",
      "**************************\n",
      "(2400, 1935, 3)\n",
      "**************************\n",
      "(2400, 1935, 3)\n",
      "**************************\n",
      "(2400, 1935, 3)\n",
      "**************************\n",
      "(2400, 1935, 3)\n",
      "**************************\n",
      "(2400, 1935, 3)\n",
      "**************************\n",
      "(2400, 1935, 3)\n",
      "**************************\n",
      "(2400, 1935, 3)\n",
      "**************************\n",
      "(2400, 1935, 3)\n",
      "**************************\n",
      "(2400, 1935, 3)\n",
      "**************************\n",
      "(2400, 1935, 3)\n",
      "**************************\n",
      "(2400, 1935, 3)\n",
      "**************************\n",
      "(2400, 1935, 3)\n",
      "**************************\n",
      "(2400, 1935, 3)\n",
      "**************************\n",
      "(2400, 1935, 3)\n",
      "**************************\n",
      "(2400, 1935, 3)\n",
      "**************************\n",
      "(2400, 1935, 3)\n",
      "**************************\n",
      "(2400, 1935, 3)\n",
      "**************************\n",
      "(2400, 1935, 3)\n",
      "**************************\n",
      "(2400, 1935, 3)\n",
      "**************************\n",
      "(2400, 1935, 3)\n",
      "**************************\n",
      "(2400, 1935, 3)\n",
      "**************************\n",
      "(2400, 1935, 3)\n",
      "**************************\n",
      "(2400, 1935, 3)\n",
      "**************************\n",
      "(2400, 1935, 3)\n",
      "**************************\n",
      "(2400, 1935, 3)\n",
      "**************************\n",
      "(2400, 1935, 3)\n",
      "**************************\n",
      "(2400, 1935, 3)\n",
      "**************************\n",
      "(2400, 1935, 3)\n",
      "**************************\n",
      "(2400, 1935, 3)\n",
      "**************************\n",
      "(2400, 1935, 3)\n",
      "**************************\n",
      "(2400, 1935, 3)\n",
      "**************************\n",
      "(2400, 1935, 3)\n",
      "**************************\n",
      "(2400, 1935, 3)\n",
      "**************************\n",
      "(2400, 1935, 3)\n",
      "**************************\n",
      "(2400, 1935, 3)\n",
      "**************************\n",
      "(2400, 1935, 3)\n",
      "**************************\n",
      "(2400, 1935, 3)\n",
      "**************************\n",
      "(2400, 1935, 3)\n",
      "**************************\n",
      "(2400, 1935, 3)\n",
      "**************************\n",
      "(2400, 1935, 3)\n",
      "**************************\n",
      "(2400, 1935, 3)\n",
      "**************************\n",
      "(2400, 1935, 3)\n",
      "**************************\n",
      "(2400, 1935, 3)\n",
      "**************************\n",
      "(2400, 1935, 3)\n",
      "**************************\n",
      "(2400, 1935, 3)\n",
      "**************************\n",
      "(2400, 1935, 3)\n",
      "**************************\n",
      "(2400, 1935, 3)\n",
      "**************************\n",
      "(2400, 1935, 3)\n",
      "**************************\n",
      "(2400, 1935, 3)\n",
      "**************************\n",
      "(2400, 1935, 3)\n",
      "**************************\n",
      "(2400, 1935, 3)\n",
      "**************************\n",
      "(2400, 1935, 3)\n",
      "**************************\n",
      "(2400, 1935, 3)\n",
      "**************************\n",
      "(2400, 1935, 3)\n",
      "**************************\n",
      "(2400, 1935, 3)\n",
      "**************************\n",
      "(2400, 1935, 3)\n",
      "**************************\n",
      "(2400, 1935, 3)\n",
      "**************************\n",
      "(2400, 1935, 3)\n",
      "**************************\n",
      "(2400, 1935, 3)\n",
      "**************************\n",
      "(2400, 1935, 3)\n",
      "**************************\n",
      "(2400, 1935, 3)\n",
      "**************************\n",
      "(2400, 1935, 3)\n",
      "**************************\n",
      "(2400, 1935, 3)\n",
      "**************************\n",
      "(2400, 1935, 3)\n",
      "**************************\n",
      "(2400, 1935, 3)\n",
      "**************************\n",
      "(2400, 1935, 3)\n",
      "**************************\n",
      "(2400, 1935, 3)\n",
      "**************************\n",
      "(2400, 1935, 3)\n",
      "**************************\n",
      "(2400, 1935, 3)\n",
      "**************************\n",
      "(2400, 1935, 3)\n",
      "**************************\n",
      "(2400, 1935, 3)\n",
      "**************************\n",
      "(2400, 1935, 3)\n",
      "**************************\n",
      "(2400, 1935, 3)\n",
      "**************************\n",
      "(2400, 1935, 3)\n",
      "**************************\n",
      "(2400, 1935, 3)\n",
      "**************************\n",
      "(2400, 1935, 3)\n",
      "**************************\n",
      "(2400, 1935, 3)\n",
      "**************************\n",
      "(2400, 1935, 3)\n",
      "**************************\n",
      "(2400, 1935, 3)\n",
      "**************************\n",
      "(2400, 1935, 3)\n",
      "**************************\n",
      "(2400, 1935, 3)\n",
      "**************************\n",
      "(2400, 1935, 3)\n",
      "**************************\n",
      "(2400, 1935, 3)\n",
      "**************************\n",
      "(2400, 1935, 3)\n",
      "**************************\n",
      "(2400, 1935, 3)\n",
      "**************************\n",
      "(2400, 1935, 3)\n",
      "**************************\n",
      "(2400, 1935, 3)\n",
      "**************************\n",
      "(2400, 1935, 3)\n",
      "**************************\n",
      "(2400, 1935, 3)\n",
      "**************************\n"
     ]
    }
   ],
   "source": [
    "for i, path in enumerate(img_paths):\n",
    "    # import as ubyte if want reduced range for small pics\n",
    "    # loop_img = img_as_ubyte(io.imread(path, as_grey=True))\n",
    "    # import normally for resnet-18 attempt:\n",
    "    loop_img = io.imread(path)\n",
    "    print(loop_img.shape)\n",
    "    \n",
    "    loop_labels = img_labels[path.split(\"\\\\\")[-1]]\n",
    "    #print_image(loop_img, loop_labels)\n",
    "#     aug_and_save(loop_img, path.split(\"\\\\\")[-1][:-4], loop_labels, augment_functions, \"data/Test/Results\")\n",
    "    aug_and_save(loop_img, path.split(\"\\\\\")[-1][:-4], loop_labels, augment_functions, \"data/images/noaug_ps/256/ps\")\n"
   ]
  },
  {
   "cell_type": "code",
   "execution_count": 52,
   "id": "behavioral-bidding",
   "metadata": {},
   "outputs": [],
   "source": [
    "TXT_PATH = \"data/images/256/final/001_aug1.txt\""
   ]
  },
  {
   "cell_type": "code",
   "execution_count": 306,
   "id": "demographic-conspiracy",
   "metadata": {},
   "outputs": [],
   "source": [
    "coords_raw = extract_labels_from_txt(TXT_PATH)"
   ]
  },
  {
   "cell_type": "code",
   "execution_count": 307,
   "id": "august-journalist",
   "metadata": {},
   "outputs": [
    {
     "data": {
      "text/plain": [
       "[(-707, -868),\n",
       " (-1345, -901),\n",
       " (-1161, -1151),\n",
       " (-476, -1100),\n",
       " (-1247, -1526),\n",
       " (-1258, -1891),\n",
       " (-1205, -2072),\n",
       " (-1135, -2144),\n",
       " (-1177, -2124),\n",
       " (-566, -1677),\n",
       " (-1332, -1742),\n",
       " (-1322, -1736),\n",
       " (-1460, -1625),\n",
       " (-1441, -1885),\n",
       " (-1386, -1492),\n",
       " (-1254, -2182),\n",
       " (-816, -1378),\n",
       " (-1308, -1441),\n",
       " (-536, -1212)]"
      ]
     },
     "execution_count": 307,
     "metadata": {},
     "output_type": "execute_result"
    }
   ],
   "source": [
    "coords_raw"
   ]
  },
  {
   "cell_type": "code",
   "execution_count": null,
   "id": "viral-export",
   "metadata": {},
   "outputs": [],
   "source": []
  }
 ],
 "metadata": {
  "kernelspec": {
   "display_name": "Python 3",
   "language": "python",
   "name": "python3"
  },
  "language_info": {
   "codemirror_mode": {
    "name": "ipython",
    "version": 3
   },
   "file_extension": ".py",
   "mimetype": "text/x-python",
   "name": "python",
   "nbconvert_exporter": "python",
   "pygments_lexer": "ipython3",
   "version": "3.7.3"
  }
 },
 "nbformat": 4,
 "nbformat_minor": 5
}
